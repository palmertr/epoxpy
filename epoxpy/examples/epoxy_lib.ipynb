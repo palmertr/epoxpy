{
 "cells": [
  {
   "cell_type": "markdown",
   "metadata": {},
   "source": [
    "## Examples for epoxpy molecule library\n",
    "\n",
    "### Particle A\n",
    "\n",
    "Particles B and C are exactly the same as particle A"
   ]
  },
  {
   "cell_type": "code",
   "execution_count": 1,
   "metadata": {
    "collapsed": false
   },
   "outputs": [
    {
     "name": "stderr",
     "output_type": "stream",
     "text": [
      "Widget Javascript not detected.  It may not be installed properly. Did you enable the widgetsnbextension? If not, then run \"jupyter nbextension enable --py --sys-prefix widgetsnbextension\"\n",
      "Widget Javascript not detected.  It may not be installed properly. Did you enable the widgetsnbextension? If not, then run \"jupyter nbextension enable --py --sys-prefix widgetsnbextension\"\n",
      "/Users/stephenthomas/miniconda3/envs/epoxy_sim/lib/python2.7/json/encoder.py:207: DeprecationWarning: Interpreting naive datetime as local 2017-03-23 12:52:54.704032. Please add timezone info to timestamps.\n",
      "  chunks = self.iterencode(o, _one_shot=True)\n"
     ]
    }
   ],
   "source": [
    "import epoxpy\n",
    "from epoxpy.lib import A\n",
    "\n",
    "a = A()\n",
    "a.visualize(show_ports=True)"
   ]
  },
  {
   "cell_type": "markdown",
   "metadata": {},
   "source": [
    "### Particle C10\n",
    "\n",
    "C10 is just a chain of 10 C's. It has two parameters to set the position and orientation of the first particle. The position and orientation of the other 9 particles depend on this first one."
   ]
  },
  {
   "cell_type": "code",
   "execution_count": 2,
   "metadata": {
    "collapsed": false
   },
   "outputs": [
    {
     "name": "stderr",
     "output_type": "stream",
     "text": [
      "Widget Javascript not detected.  It may not be installed properly. Did you enable the widgetsnbextension? If not, then run \"jupyter nbextension enable --py --sys-prefix widgetsnbextension\"\n",
      "Widget Javascript not detected.  It may not be installed properly. Did you enable the widgetsnbextension? If not, then run \"jupyter nbextension enable --py --sys-prefix widgetsnbextension\"\n",
      "/Users/stephenthomas/miniconda3/envs/epoxy_sim/lib/python2.7/json/encoder.py:207: DeprecationWarning: Interpreting naive datetime as local 2017-03-23 12:52:58.260762. Please add timezone info to timestamps.\n",
      "  chunks = self.iterencode(o, _one_shot=True)\n"
     ]
    }
   ],
   "source": [
    "from epoxpy.lib import C10\n",
    "\n",
    "c10 = C10()\n",
    "c10.visualize(show_ports=True)"
   ]
  },
  {
   "cell_type": "markdown",
   "metadata": {},
   "source": [
    "## Epoxy blend (10 A's, 20 B's and 2 C10's)\n",
    "\n",
    "The blend can be given a box size. The default is [1,1,1]."
   ]
  },
  {
   "cell_type": "code",
   "execution_count": 7,
   "metadata": {
    "collapsed": false
   },
   "outputs": [
    {
     "name": "stderr",
     "output_type": "stream",
     "text": [
      "/Users/stephenthomas/miniconda3/envs/epoxy_sim/lib/python2.7/site-packages/mbuild/compound.py:889: UserWarning: Guessing that \"<A pos=(-0.9719,-0.7498,-0.7342), 0 bonds, id: 4896558672>\" is element: \"EP\"\n",
      "  warn('Guessing that \"{}\" is element: \"{}\"'.format(atom, element))\n"
     ]
    },
    {
     "name": "stdout",
     "output_type": "stream",
     "text": [
      "1800\n",
      "5000\n"
     ]
    },
    {
     "name": "stderr",
     "output_type": "stream",
     "text": [
      "/Users/stephenthomas/miniconda3/envs/epoxy_sim/lib/python2.7/json/encoder.py:207: DeprecationWarning: Interpreting naive datetime as local 2017-03-23 12:56:31.964250. Please add timezone info to timestamps.\n",
      "  chunks = self.iterencode(o, _one_shot=True)\n"
     ]
    }
   ],
   "source": [
    "from epoxpy.lib import Epoxy_A_10_B_20_C10_2_Blend\n",
    "import mbuild as mb\n",
    "\n",
    "blend = Epoxy_A_10_B_20_C10_2_Blend()\n",
    "mix_box = mb.packing.fill_box(blend,100,box=[5,5,5])\n",
    "print(mix_box.n_bonds)\n",
    "print(mix_box.n_particles)\n",
    "mix_box.visualize(show_ports=False)"
   ]
  },
  {
   "cell_type": "code",
   "execution_count": 8,
   "metadata": {
    "collapsed": false
   },
   "outputs": [
    {
     "name": "stderr",
     "output_type": "stream",
     "text": [
      "/Users/stephenthomas/miniconda3/envs/epoxy_sim/lib/python2.7/site-packages/mbuild/compound.py:889: UserWarning: Guessing that \"<A pos=( 1.5066, 1.7763, 4.6258), 0 bonds, id: 4911559312>\" is element: \"EP\"\n",
      "  warn('Guessing that \"{}\" is element: \"{}\"'.format(atom, element))\n",
      "/Users/stephenthomas/miniconda3/envs/epoxy_sim/lib/python2.7/json/encoder.py:207: DeprecationWarning: Interpreting naive datetime as local 2017-03-23 12:57:55.776581. Please add timezone info to timestamps.\n",
      "  chunks = self.iterencode(o, _one_shot=True)\n"
     ]
    }
   ],
   "source": [
    "mix_box.save('blend_large.gsd', write_ff=False)"
   ]
  },
  {
   "cell_type": "code",
   "execution_count": 5,
   "metadata": {
    "collapsed": false
   },
   "outputs": [
    {
     "name": "stderr",
     "output_type": "stream",
     "text": [
      "/Users/stephenthomas/miniconda3/envs/epoxy_sim/lib/python2.7/site-packages/mbuild/compound.py:889: UserWarning: Guessing that \"<A pos=(-0.6614,-0.8384,-0.2643), 0 bonds, id: 4915192528>\" is element: \"EP\"\n",
      "  warn('Guessing that \"{}\" is element: \"{}\"'.format(atom, element))\n"
     ]
    },
    {
     "name": "stdout",
     "output_type": "stream",
     "text": [
      "18\n",
      "50\n"
     ]
    },
    {
     "name": "stderr",
     "output_type": "stream",
     "text": [
      "Widget Javascript not detected.  It may not be installed properly. Did you enable the widgetsnbextension? If not, then run \"jupyter nbextension enable --py --sys-prefix widgetsnbextension\"\n",
      "Widget Javascript not detected.  It may not be installed properly. Did you enable the widgetsnbextension? If not, then run \"jupyter nbextension enable --py --sys-prefix widgetsnbextension\"\n",
      "/Users/stephenthomas/miniconda3/envs/epoxy_sim/lib/python2.7/json/encoder.py:207: DeprecationWarning: Interpreting naive datetime as local 2017-03-23 12:53:09.566003. Please add timezone info to timestamps.\n",
      "  chunks = self.iterencode(o, _one_shot=True)\n"
     ]
    }
   ],
   "source": [
    "from epoxpy.lib import Epoxy_A_10_B_20_C10_2_Blend\n",
    "import mbuild as mb\n",
    "\n",
    "blend = Epoxy_A_10_B_20_C10_2_Blend()\n",
    "mix_box = mb.packing.fill_box(blend,1,box=[3,3,3])\n",
    "print(mix_box.n_bonds)\n",
    "print(mix_box.n_particles)\n",
    "mix_box.visualize(show_ports=False)"
   ]
  },
  {
   "cell_type": "code",
   "execution_count": 6,
   "metadata": {
    "collapsed": false
   },
   "outputs": [
    {
     "name": "stderr",
     "output_type": "stream",
     "text": [
      "/Users/stephenthomas/miniconda3/envs/epoxy_sim/lib/python2.7/site-packages/mbuild/compound.py:889: UserWarning: Guessing that \"<A pos=( 1.4161, 1.7939, 1.7234), 0 bonds, id: 4919392144>\" is element: \"EP\"\n",
      "  warn('Guessing that \"{}\" is element: \"{}\"'.format(atom, element))\n",
      "/Users/stephenthomas/miniconda3/envs/epoxy_sim/lib/python2.7/json/encoder.py:207: DeprecationWarning: Interpreting naive datetime as local 2017-03-23 12:53:10.325176. Please add timezone info to timestamps.\n",
      "  chunks = self.iterencode(o, _one_shot=True)\n"
     ]
    }
   ],
   "source": [
    "from foyer import Forcefield\n",
    "mix_box.save('blend.gsd', write_ff=False)"
   ]
  },
  {
   "cell_type": "code",
   "execution_count": null,
   "metadata": {
    "collapsed": true
   },
   "outputs": [],
   "source": []
  }
 ],
 "metadata": {
  "kernelspec": {
   "display_name": "Python 2",
   "language": "python",
   "name": "python2"
  },
  "language_info": {
   "codemirror_mode": {
    "name": "ipython",
    "version": 2
   },
   "file_extension": ".py",
   "mimetype": "text/x-python",
   "name": "python",
   "nbconvert_exporter": "python",
   "pygments_lexer": "ipython2",
   "version": "2.7.13"
  },
  "widgets": {
   "state": {
    "0485c45362414495b076184540c831d5": {
     "views": [
      {
       "cell_index": 3
      }
     ]
    },
    "06e3a6682a644758aeadf289e753b7da": {
     "views": [
      {
       "cell_index": 1
      }
     ]
    },
    "223153eb38174f99a34ca38b79800443": {
     "views": [
      {
       "cell_index": 7
      }
     ]
    },
    "2bd4b93938b44740a883f3dc04e42936": {
     "views": [
      {
       "cell_index": 5
      }
     ]
    },
    "461a06569a4c457a973dc43653323e61": {
     "views": [
      {
       "cell_index": 5
      }
     ]
    },
    "4bc1a001cdff4fc583d48c02c976c3d3": {
     "views": [
      {
       "cell_index": 1
      }
     ]
    },
    "5159e0310a2e416ba444a390a85af916": {
     "views": [
      {
       "cell_index": 3
      }
     ]
    },
    "79b9b66845e548f38a5e956ee470241b": {
     "views": [
      {
       "cell_index": 6
      }
     ]
    },
    "8277aa0fdf774234b3096bd36e4acba9": {
     "views": [
      {
       "cell_index": 6
      }
     ]
    },
    "a04c7cb004ba4bc4b68a8139d2068e19": {
     "views": [
      {
       "cell_index": 7
      }
     ]
    },
    "a9e004fad8df49d4b8509faa42722f8a": {
     "views": [
      {
       "cell_index": 1
      }
     ]
    },
    "b5ac1614abb44ba18fb4b89277fc8b99": {
     "views": [
      {
       "cell_index": 5
      }
     ]
    },
    "b929b3f6983a4d68b3e1734119f3c6bc": {
     "views": [
      {
       "cell_index": 6
      }
     ]
    },
    "bf36ee4d520d4148867765136eeda4f5": {
     "views": [
      {
       "cell_index": 3
      }
     ]
    },
    "c64eca2321854c36be5a44391850b4a6": {
     "views": [
      {
       "cell_index": 6
      }
     ]
    },
    "d21863b517cc4a5f86d2d55748a4628a": {
     "views": [
      {
       "cell_index": 5
      }
     ]
    }
   },
   "version": "1.2.0"
  }
 },
 "nbformat": 4,
 "nbformat_minor": 2
}
