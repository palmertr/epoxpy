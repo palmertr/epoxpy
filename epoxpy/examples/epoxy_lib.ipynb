{
 "cells": [
  {
   "cell_type": "markdown",
   "metadata": {},
   "source": [
    "## Examples for epoxpy molecule library\n",
    "\n",
    "### Particle A\n",
    "\n",
    "Particles B and C are exactly the same as particle A"
   ]
  },
  {
   "cell_type": "code",
   "execution_count": 1,
   "metadata": {
    "collapsed": false
   },
   "outputs": [
    {
     "name": "stderr",
     "output_type": "stream",
     "text": [
      "/Users/stephenthomas/miniconda3/envs/epoxy_sim/lib/python2.7/json/encoder.py:207: DeprecationWarning: Interpreting naive datetime as local 2017-03-30 14:52:31.218408. Please add timezone info to timestamps.\n",
      "  chunks = self.iterencode(o, _one_shot=True)\n"
     ]
    }
   ],
   "source": [
    "import epoxpy\n",
    "from epoxpy.lib import A\n",
    "\n",
    "a = A()\n",
    "a.visualize(show_ports=True)"
   ]
  },
  {
   "cell_type": "markdown",
   "metadata": {},
   "source": [
    "### Particle C10\n",
    "\n",
    "C10 is just a chain of 10 C's. It has two parameters to set the position and orientation of the first particle. The position and orientation of the other 9 particles depend on this first one."
   ]
  },
  {
   "cell_type": "code",
   "execution_count": 2,
   "metadata": {
    "collapsed": false
   },
   "outputs": [
    {
     "name": "stderr",
     "output_type": "stream",
     "text": [
      "/Users/stephenthomas/miniconda3/envs/epoxy_sim/lib/python2.7/json/encoder.py:207: DeprecationWarning: Interpreting naive datetime as local 2017-03-30 14:52:32.148144. Please add timezone info to timestamps.\n",
      "  chunks = self.iterencode(o, _one_shot=True)\n"
     ]
    }
   ],
   "source": [
    "from epoxpy.lib import C10\n",
    "\n",
    "c10 = C10()\n",
    "c10.visualize(show_ports=True)"
   ]
  },
  {
   "cell_type": "markdown",
   "metadata": {},
   "source": [
    "## Epoxy blend (10 A's, 20 B's and 2 C10's)\n",
    "\n",
    "The blend can be given a box size. The default is [1,1,1]."
   ]
  },
  {
   "cell_type": "code",
   "execution_count": 3,
   "metadata": {
    "collapsed": false
   },
   "outputs": [
    {
     "name": "stderr",
     "output_type": "stream",
     "text": [
      "/Users/stephenthomas/miniconda3/envs/epoxy_sim/lib/python2.7/site-packages/mbuild/compound.py:889: UserWarning: Guessing that \"<A pos=(-0.5833,-0.7628,-0.7617), 0 bonds, id: 4410269392>\" is element: \"EP\"\n",
      "  warn('Guessing that \"{}\" is element: \"{}\"'.format(atom, element))\n"
     ]
    },
    {
     "name": "stdout",
     "output_type": "stream",
     "text": [
      "18\n",
      "50\n"
     ]
    },
    {
     "name": "stderr",
     "output_type": "stream",
     "text": [
      "/Users/stephenthomas/miniconda3/envs/epoxy_sim/lib/python2.7/json/encoder.py:207: DeprecationWarning: Interpreting naive datetime as local 2017-03-30 14:52:32.226671. Please add timezone info to timestamps.\n",
      "  chunks = self.iterencode(o, _one_shot=True)\n"
     ]
    }
   ],
   "source": [
    "from epoxpy.lib import Epoxy_A_10_B_20_C10_2_Blend\n",
    "import mbuild as mb\n",
    "\n",
    "blend = Epoxy_A_10_B_20_C10_2_Blend()\n",
    "mix_box = mb.packing.fill_box(blend,1,box=[3,3,3])\n",
    "print(mix_box.n_bonds)\n",
    "print(mix_box.n_particles)\n",
    "mix_box.visualize(show_ports=False)"
   ]
  },
  {
   "cell_type": "code",
   "execution_count": 4,
   "metadata": {
    "collapsed": false
   },
   "outputs": [
    {
     "name": "stderr",
     "output_type": "stream",
     "text": [
      "/Users/stephenthomas/miniconda3/envs/epoxy_sim/lib/python2.7/site-packages/mbuild/compound.py:889: UserWarning: Guessing that \"<A pos=( 2.8560, 2.5805, 0.9539), 0 bonds, id: 4413651600>\" is element: \"EP\"\n",
      "  warn('Guessing that \"{}\" is element: \"{}\"'.format(atom, element))\n",
      "/Users/stephenthomas/miniconda3/envs/epoxy_sim/lib/python2.7/json/encoder.py:207: DeprecationWarning: Interpreting naive datetime as local 2017-03-30 14:52:32.591933. Please add timezone info to timestamps.\n",
      "  chunks = self.iterencode(o, _one_shot=True)\n"
     ]
    }
   ],
   "source": [
    "from foyer import Forcefield\n",
    "mix_box.save('blend.gsd', write_ff=False)\n",
    "mix_box.save('blend.hoomdxml')"
   ]
  },
  {
   "cell_type": "code",
   "execution_count": 5,
   "metadata": {
    "collapsed": false
   },
   "outputs": [
    {
     "name": "stdout",
     "output_type": "stream",
     "text": [
      "HOOMD-blue v2.1.3 DOUBLE HPMC_MIXED SSE SSE2 SSE3 SSE4_1 SSE4_2 AVX \n",
      "Compiled: 02/07/17\n",
      "Copyright 2009-2016 The Regents of the University of Michigan.\n",
      "-----\n",
      "You are using HOOMD-blue. Please cite the following:\n",
      "* J A Anderson, C D Lorenz, and A Travesset. \"General purpose molecular dynamics\n",
      "  simulations fully implemented on graphics processing units\", Journal of\n",
      "  Computational Physics 227 (2008) 5342--5359\n",
      "* J Glaser, T D Nguyen, J A Anderson, P Liu, F Spiga, J A Millan, D C Morse, and\n",
      "  S C Glotzer. \"Strong scaling of general-purpose molecular dynamics simulations\n",
      "  on GPUs\", Computer Physics Communications 192 (2015) 97--107\n",
      "-----\n",
      "\n",
      "# Test1: Running the simulation in a single job\n"
     ]
    },
    {
     "data": {
      "image/png": "[encoded data removed]",
      "text/plain": [
       "<matplotlib.figure.Figure at 0x108aedb50>"
      ]
     },
     "metadata": {},
     "output_type": "display_data"
    },
    {
     "name": "stdout",
     "output_type": "stream",
     "text": [
      "Initializing HOOMD in ipython\n",
      "HOOMD-blue is running on the CPU\n",
      "HOOMDEngine initialized.\n",
      "<epoxpy.hoomd_engine.HOOMDEngine object at 0x108c4ef90> created in SimulationEngineFactory\n",
      "md time: 4900000.0\n",
      "New single job created to run epoxy_test_mbuild\n",
      "Executing epoxy_test_mbuild\n",
      "Initializing epoxy_test_mbuild\n"
     ]
    },
    {
     "name": "stderr",
     "output_type": "stream",
     "text": [
      "/Users/stephenthomas/miniconda3/envs/epoxy_sim/lib/python2.7/site-packages/mbuild/compound.py:889: UserWarning: Guessing that \"<A pos=(-0.4885,-0.1542,-0.9776), 0 bonds, id: 4441042640>\" is element: \"EP\"\n",
      "  warn('Guessing that \"{}\" is element: \"{}\"'.format(atom, element))\n",
      "/Users/stephenthomas/miniconda3/envs/epoxy_sim/lib/python2.7/site-packages/mbuild/compound.py:889: UserWarning: Guessing that \"<A pos=( 0.3604, 2.5268, 0.4866), 0 bonds, id: 4445466256>\" is element: \"EP\"\n",
      "  warn('Guessing that \"{}\" is element: \"{}\"'.format(atom, element))\n"
     ]
    },
    {
     "name": "stdout",
     "output_type": "stream",
     "text": [
      "notice(2): Group \"all\" created containing 50 particles\n",
      "Initial box dimension: 3\n",
      "[u'0']\n",
      "notice(2): Group \"a-particles\" created containing 10 particles\n",
      "notice(2): Group \"b-particles\" created containing 20 particles\n",
      "notice(2): Group \"c-particles\" created containing 20 particles\n",
      "-----\n",
      "You are using DPD. Please cite the following:\n",
      "* C L Phillips, J A Anderson, and S C Glotzer. \"Pseudo-random number generation\n",
      "  for Brownian Dynamics and Dissipative Particle Dynamics simulations on GPU\n",
      "  devices\", Journal of Computational Physics 230 (2011) 7191--7201\n",
      "-----\n",
      "Configuring outputs. output_dir: /Users/stephenthomas/projects/epoxy_sim/epoxpy/examples/epoxy_test_mbuild/\n",
      "log_write: 100 dcd_write: 100\n",
      "notice(2): -- Neighborlist exclusion statistics -- :\n",
      "notice(2): Particles with 0 exclusions             : 28\n",
      "notice(2): Particles with 1 exclusions             : 6\n",
      "notice(2): Particles with 2 exclusions             : 16\n",
      "notice(2): Neighbors included by diameter          : no\n",
      "notice(2): Neighbors excluded when in the same body: no\n",
      "** starting run **\n",
      "Time 00:00:00 | Step 30000 / 30000 | TPS 43299 | ETA 00:00:00\n",
      "Average TPS: 43109.1\n",
      "---------\n",
      "-- Neighborlist stats:\n",
      "19096 normal updates / 301 forced updates / 0 dangerous updates\n",
      "n_neigh_min: 0 / n_neigh_max: 7 / n_neigh_avg: 0.54\n",
      "shortest rebuild period: 1\n",
      "-- Cell list stats:\n",
      "Dimension: 10, 16, 13\n",
      "n_min    : 0 / n_max: 4 / n_avg: 0.0240385\n",
      "** run complete **\n",
      "Running epoxy_test_mbuild\n",
      "temperature profile <hoomd.variant.linear_interp instance at 0x10946bb90>\n",
      "** starting run **\n"
     ]
    },
    {
     "name": "stderr",
     "output_type": "stream",
     "text": [
      "*Warning*: Particle number change but group is static. Create group with"
     ]
    },
    {
     "name": "stdout",
     "output_type": "stream",
     "text": [
      "Found one, bonding B (28) to A (9)\n",
      "Found one, bonding A (3) to B (18)\n",
      "Found one, bonding B (21) to A (4)\n",
      "Time 00:00:10 | Step 981250 / 4930000 | TPS 95125 | ETA 00:00:41\n",
      "Found one, bonding A (2) to B (19)\n",
      "Time 00:00:20 | Step 2008473 / 4930000 | TPS 102722 | ETA 00:00:28\n",
      "Time 00:00:30 | Step 3053781 / 4930000 | TPS 104531 | ETA 00:00:17\n",
      "Time 00:00:40 | Step 4136701 / 4930000 | TPS 108292 | ETA 00:00:07\n",
      "Time 00:00:47 | Step 4930000 / 4930000 | TPS 114599 | ETA 00:00:00\n",
      "Average TPS: 104422\n",
      "---------\n",
      "-- Neighborlist stats:\n",
      "1331690 normal updates / 49001 forced updates / 0 dangerous updates\n",
      "n_neigh_min: 0 / n_neigh_max: 4 / n_neigh_avg: 0.48\n",
      "shortest rebuild period: 1\n",
      "-- Cell list stats:\n",
      "Dimension: 10, 16, 13\n",
      "n_min    : 0 / n_max: 2 / n_avg: 0.0240385\n",
      "** run complete **\n",
      "sim fin\n"
     ]
    },
    {
     "name": "stderr",
     "output_type": "stream",
     "text": [
      " update=True if it should be updated.\n",
      "This warning is printed only once.\n",
      "*Warning*: Particle number change but group is static. Create group with update=True if it should be updated.\n",
      "This warning is printed only once.\n",
      "*Warning*: Particle number change but group is static. Create group with update=True if it should be updated.\n",
      "This warning is printed only once.\n",
      "/Users/stephenthomas/miniconda3/envs/epoxy_sim/lib/python2.7/json/encoder.py:207: DeprecationWarning: Interpreting naive datetime as local 2017-03-30 14:52:32.652093. Please add timezone info to timestamps.\n",
      "  chunks = self.iterencode(o, _one_shot=True)\n"
     ]
    }
   ],
   "source": [
    "%matplotlib inline\n",
    "import matplotlib.pyplot as plt\n",
    "import epoxpy.epoxy_simulation as es\n",
    "import epoxpy.job as jb\n",
    "import epoxpy.temperature_profile_builder as tpb\n",
    "\n",
    "print('\\n# Test1: Running the simulation in a single job')\n",
    "# This simulation should run a total of 700 time steps because the default dt of the HOOMD engine is 1e-2\n",
    "mix_time = 3e4\n",
    "md_time = 4e4\n",
    "mix_kt = 2.0\n",
    "time_scale = 1e4\n",
    "temp_scale = 1\n",
    "type_A_md_temp_profile = tpb.LinearTemperatureProfileBuilder(initial_temperature=mix_kt, initial_time=mix_time)\n",
    "type_A_md_temp_profile.add_state_point(60 * time_scale, 4.5 * temp_scale)\n",
    "type_A_md_temp_profile.add_state_point(190 * time_scale, 4.5 * temp_scale)\n",
    "type_A_md_temp_profile.add_state_point(240 * time_scale, 1.0 * temp_scale)\n",
    "\n",
    "fig = type_A_md_temp_profile.get_figure()\n",
    "plt.show()\n",
    "fig.savefig(\"type_A_temp_profile.png\")\n",
    "\n",
    "myEpoxySim = es.EpoxySimulation('epoxy_test_mbuild', mix_time=mix_time, mix_kt=mix_kt,\n",
    "                                temp_prof=type_A_md_temp_profile, n_mul=1.0, bond=True, bond_period=1*time_scale)\n",
    "\n",
    "mySingleJobForEpoxy = jb.SingleJob(myEpoxySim)\n",
    "mySingleJobForEpoxy.execute()\n"
   ]
  },
  {
   "cell_type": "code",
   "execution_count": null,
   "metadata": {
    "collapsed": true
   },
   "outputs": [],
   "source": []
  }
 ],
 "metadata": {
  "kernelspec": {
   "display_name": "Python 2",
   "language": "python",
   "name": "python2"
  },
  "language_info": {
   "codemirror_mode": {
    "name": "ipython",
    "version": 2
   },
   "file_extension": ".py",
   "mimetype": "text/x-python",
   "name": "python",
   "nbconvert_exporter": "python",
   "pygments_lexer": "ipython2",
   "version": "2.7.13"
  },
  "widgets": {
   "state": {
    "053ac4a674ed445394d91c6cbd8462a7": {
     "views": [
      {
       "cell_index": 1
      }
     ]
    },
    "2d4f6945e116456ea5f914d15c1c9e97": {
     "views": [
      {
       "cell_index": 3
      }
     ]
    },
    "317ab6767eb344c1aa693016d0db7c17": {
     "views": [
      {
       "cell_index": 3
      }
     ]
    },
    "3625e08577f6438baad8c4991129938a": {
     "views": [
      {
       "cell_index": 5
      }
     ]
    },
    "3768227e1e67456892f7987a075bbca9": {
     "views": [
      {
       "cell_index": 1
      }
     ]
    },
    "588aba200bdf42c1ba09e93756b06bf7": {
     "views": [
      {
       "cell_index": 1
      }
     ]
    },
    "94f30e308b66482e81ba554a091991fb": {
     "views": [
      {
       "cell_index": 3
      }
     ]
    },
    "99240300d8ae4b15b12c0932cb0ecc97": {
     "views": [
      {
       "cell_index": 5
      }
     ]
    },
    "b56f6ad00a854b369cc2edceb5ce5a54": {
     "views": [
      {
       "cell_index": 5
      }
     ]
    },
    "d9be253a59b14b1c89d980ddbb42634b": {
     "views": [
      {
       "cell_index": 5
      }
     ]
    },
    "db8ef5c2dd5b4042b755cf2d05ee2c5e": {
     "views": [
      {
       "cell_index": 1
      }
     ]
    },
    "f452a6b80a3f4d0a873058eae2b9ecde": {
     "views": [
      {
       "cell_index": 3
      }
     ]
    }
   },
   "version": "1.2.0"
  }
 },
 "nbformat": 4,
 "nbformat_minor": 2
}
