{
 "cells": [
  {
   "cell_type": "markdown",
   "metadata": {},
   "source": [
    "## Examples for epoxpy molecule library\n",
    "\n",
    "### Particle A\n",
    "\n",
    "Particles B and C are exactly the same as particle A"
   ]
  },
  {
   "cell_type": "code",
   "execution_count": 1,
   "metadata": {
    "collapsed": false
   },
   "outputs": [
    {
     "name": "stderr",
     "output_type": "stream",
     "text": [
      "/Users/stephenthomas/miniconda3/envs/epoxy_sim/lib/python2.7/json/encoder.py:207: DeprecationWarning: Interpreting naive datetime as local 2017-03-30 17:29:21.453055. Please add timezone info to timestamps.\n",
      "  chunks = self.iterencode(o, _one_shot=True)\n"
     ]
    }
   ],
   "source": [
    "import epoxpy\n",
    "from epoxpy.lib import A\n",
    "\n",
    "a = A()\n",
    "a.visualize(show_ports=True)"
   ]
  },
  {
   "cell_type": "markdown",
   "metadata": {},
   "source": [
    "### Particle C10\n",
    "\n",
    "C10 is just a chain of 10 C's. It has two parameters to set the position and orientation of the first particle. The position and orientation of the other 9 particles depend on this first one."
   ]
  },
  {
   "cell_type": "code",
   "execution_count": 2,
   "metadata": {
    "collapsed": false
   },
   "outputs": [
    {
     "name": "stderr",
     "output_type": "stream",
     "text": [
      "/Users/stephenthomas/miniconda3/envs/epoxy_sim/lib/python2.7/json/encoder.py:207: DeprecationWarning: Interpreting naive datetime as local 2017-03-30 17:29:24.586170. Please add timezone info to timestamps.\n",
      "  chunks = self.iterencode(o, _one_shot=True)\n"
     ]
    }
   ],
   "source": [
    "from epoxpy.lib import C10\n",
    "\n",
    "c10 = C10()\n",
    "c10.visualize(show_ports=True)"
   ]
  },
  {
   "cell_type": "markdown",
   "metadata": {},
   "source": [
    "## Epoxy blend (10 A's, 20 B's and 2 C10's)\n",
    "\n",
    "The blend can be given a box size. The default is [1,1,1]."
   ]
  },
  {
   "cell_type": "code",
   "execution_count": 5,
   "metadata": {
    "collapsed": false
   },
   "outputs": [
    {
     "name": "stdout",
     "output_type": "stream",
     "text": [
      "18\n",
      "50\n"
     ]
    },
    {
     "name": "stderr",
     "output_type": "stream",
     "text": [
      "/Users/stephenthomas/miniconda3/envs/epoxy_sim/lib/python2.7/site-packages/mbuild/compound.py:889: UserWarning: Guessing that \"<A pos=(-0.2029,-0.5165,-0.6106), 0 bonds, id: 4497130128>\" is element: \"EP\"\n",
      "  warn('Guessing that \"{}\" is element: \"{}\"'.format(atom, element))\n",
      "/Users/stephenthomas/miniconda3/envs/epoxy_sim/lib/python2.7/json/encoder.py:207: DeprecationWarning: Interpreting naive datetime as local 2017-03-30 17:44:22.524299. Please add timezone info to timestamps.\n",
      "  chunks = self.iterencode(o, _one_shot=True)\n"
     ]
    }
   ],
   "source": [
    "from epoxpy.lib import Epoxy_A_10_B_20_C10_2_Blend\n",
    "import mbuild as mb\n",
    "import random\n",
    "random.seed(1024)\n",
    "\n",
    "blend = Epoxy_A_10_B_20_C10_2_Blend()\n",
    "#blend.visualize()\n",
    "mix_box = mb.packing.fill_box(blend,1,box=[3,3,3])\n",
    "print(mix_box.n_bonds)\n",
    "print(mix_box.n_particles)\n",
    "mix_box.visualize(show_ports=False)"
   ]
  },
  {
   "cell_type": "code",
   "execution_count": 4,
   "metadata": {
    "collapsed": false
   },
   "outputs": [
    {
     "name": "stderr",
     "output_type": "stream",
     "text": [
      "/Users/stephenthomas/miniconda3/envs/epoxy_sim/lib/python2.7/site-packages/mbuild/compound.py:889: UserWarning: Guessing that \"<A pos=( 0.1216, 2.0407, 0.9267), 0 bonds, id: 4429313168>\" is element: \"EP\"\n",
      "  warn('Guessing that \"{}\" is element: \"{}\"'.format(atom, element))\n",
      "/Users/stephenthomas/miniconda3/envs/epoxy_sim/lib/python2.7/json/encoder.py:207: DeprecationWarning: Interpreting naive datetime as local 2017-03-30 17:29:25.196169. Please add timezone info to timestamps.\n",
      "  chunks = self.iterencode(o, _one_shot=True)\n"
     ]
    }
   ],
   "source": [
    "from foyer import Forcefield\n",
    "mix_box.save('blend.gsd', write_ff=False)\n",
    "mix_box.save('blend.hoomdxml')"
   ]
  },
  {
   "cell_type": "code",
   "execution_count": 5,
   "metadata": {
    "collapsed": false
   },
   "outputs": [
    {
     "name": "stdout",
     "output_type": "stream",
     "text": [
      "HOOMD-blue v2.1.3 DOUBLE HPMC_MIXED SSE SSE2 SSE3 SSE4_1 SSE4_2 AVX \n",
      "Compiled: 02/07/17\n",
      "Copyright 2009-2016 The Regents of the University of Michigan.\n",
      "-----\n",
      "You are using HOOMD-blue. Please cite the following:\n",
      "* J A Anderson, C D Lorenz, and A Travesset. \"General purpose molecular dynamics\n",
      "  simulations fully implemented on graphics processing units\", Journal of\n",
      "  Computational Physics 227 (2008) 5342--5359\n",
      "* J Glaser, T D Nguyen, J A Anderson, P Liu, F Spiga, J A Millan, D C Morse, and\n",
      "  S C Glotzer. \"Strong scaling of general-purpose molecular dynamics simulations\n",
      "  on GPUs\", Computer Physics Communications 192 (2015) 97--107\n",
      "-----\n",
      "\n",
      "# Test1: Running the simulation in a single job\n"
     ]
    },
    {
     "name": "stderr",
     "output_type": "stream",
     "text": [
      "/Users/stephenthomas/miniconda3/envs/epoxy_sim/lib/python2.7/site-packages/matplotlib/figure.py:1744: UserWarning: This figure includes Axes that are not compatible with tight_layout, so its results might be incorrect.\n",
      "  warnings.warn(\"This figure includes Axes that are not \"\n"
     ]
    },
    {
     "data": {
      "image/png": "[encoded data removed]",
      "text/plain": [
       "<matplotlib.figure.Figure at 0x1083e0090>"
      ]
     },
     "metadata": {},
     "output_type": "display_data"
    },
    {
     "name": "stdout",
     "output_type": "stream",
     "text": [
      "Initializing HOOMD in ipython\n",
      "HOOMD-blue is running on the CPU\n",
      "HOOMDEngine initialized.\n",
      "<epoxpy.hoomd_engine.HOOMDEngine object at 0x109b27d50> created in SimulationEngineFactory\n",
      "md time: 4900000.0\n",
      "New single job created to run epoxy_test_mbuild\n",
      "Executing epoxy_test_mbuild\n",
      "Initializing epoxy_test_mbuild\n"
     ]
    },
    {
     "name": "stderr",
     "output_type": "stream",
     "text": [
      "/Users/stephenthomas/miniconda3/envs/epoxy_sim/lib/python2.7/site-packages/mbuild/compound.py:889: UserWarning: Guessing that \"<A pos=(-0.8122,-0.2852,-0.9023), 0 bonds, id: 4432621904>\" is element: \"EP\"\n",
      "  warn('Guessing that \"{}\" is element: \"{}\"'.format(atom, element))\n",
      "/Users/stephenthomas/miniconda3/envs/epoxy_sim/lib/python2.7/site-packages/mbuild/compound.py:889: UserWarning: Guessing that \"<A pos=( 2.1534, 1.9147, 1.1821), 0 bonds, id: 4495859344>\" is element: \"EP\"\n",
      "  warn('Guessing that \"{}\" is element: \"{}\"'.format(atom, element))\n"
     ]
    },
    {
     "name": "stdout",
     "output_type": "stream",
     "text": [
      "notice(2): Group \"all\" created containing 50 particles\n",
      "Initial box dimension: 3\n",
      "[u'0']\n",
      "notice(2): Group \"a-particles\" created containing 10 particles\n",
      "notice(2): Group \"b-particles\" created containing 20 particles\n",
      "notice(2): Group \"c-particles\" created containing 20 particles\n",
      "-----\n",
      "You are using DPD. Please cite the following:\n",
      "* C L Phillips, J A Anderson, and S C Glotzer. \"Pseudo-random number generation\n",
      "  for Brownian Dynamics and Dissipative Particle Dynamics simulations on GPU\n",
      "  devices\", Journal of Computational Physics 230 (2011) 7191--7201\n",
      "-----\n",
      "Configuring outputs. output_dir: /Users/stephenthomas/projects/epoxy_sim/epoxpy/examples/epoxy_test_mbuild/\n",
      "log_write: 100 dcd_write: 100\n",
      "notice(2): -- Neighborlist exclusion statistics -- :\n",
      "notice(2): Particles with 0 exclusions             : 28\n",
      "notice(2): Particles with 1 exclusions             : 6\n",
      "notice(2): Particles with 2 exclusions             : 16\n",
      "notice(2): Neighbors included by diameter          : no\n",
      "notice(2): Neighbors excluded when in the same body: no\n",
      "** starting run **\n",
      "Time 00:00:00 | Step 30000 / 30000 | TPS 41759.8 | ETA 00:00:00\n",
      "Average TPS: 41574.6\n",
      "---------\n",
      "-- Neighborlist stats:\n",
      "26541 normal updates / 301 forced updates / 0 dangerous updates\n",
      "n_neigh_min: 0 / n_neigh_max: 6 / n_neigh_avg: 0.64\n",
      "shortest rebuild period: 1\n",
      "-- Cell list stats:\n",
      "Dimension: 12, 12, 15\n",
      "n_min    : 0 / n_max: 5 / n_avg: 0.0231481\n",
      "** run complete **\n",
      "Running epoxy_test_mbuild\n",
      "temperature profile <hoomd.variant.linear_interp instance at 0x10c34a9e0>\n",
      "** starting run **\n"
     ]
    },
    {
     "name": "stderr",
     "output_type": "stream",
     "text": [
      "*Warning*: Particle number change but group is static. Create group with update=True if it should be updated.\n",
      "This warning is printed only once.\n",
      "*Warning*: Particle number change but group is static. Create group with update=True if it"
     ]
    },
    {
     "name": "stdout",
     "output_type": "stream",
     "text": [
      "Found one, bonding B (26) to A (8)\n",
      "Time 00:00:10 | Step 726395 / 4930000 | TPS 69639.5 | ETA 00:01:00\n",
      "Time 00:00:20 | Step 1736161 / 4930000 | TPS 100976 | ETA 00:00:31\n",
      "Time 00:00:30 | Step 2767633 / 4930000 | TPS 103147 | ETA 00:00:20\n",
      "Found one, bonding B (14) to A (3)\n",
      "Time 00:00:40 | Step 3910594 / 4930000 | TPS 114296 | ETA 00:00:08\n",
      "Found one, bonding A (3) to B (24)\n",
      "Time 00:00:49 | Step 4930000 / 4930000 | TPS 118107 | ETA 00:00:00\n",
      "Average TPS: 100753\n",
      "---------\n",
      "-- Neighborlist stats:\n",
      "1391006 normal updates / 49001 forced updates / 0 dangerous updates\n",
      "n_neigh_min: 0 / n_neigh_max: 3 / n_neigh_avg: 0.48\n",
      "shortest rebuild period: 1\n",
      "-- Cell list stats:\n",
      "Dimension: 12, 12, 15\n",
      "n_min    : 0 / n_max: 2 / n_avg: 0.0231481\n",
      "** run complete **\n",
      "sim fin\n"
     ]
    },
    {
     "name": "stderr",
     "output_type": "stream",
     "text": [
      " should be updated.\n",
      "This warning is printed only once.\n",
      "*Warning*: Particle number change but group is static. Create group with update=True if it should be updated.\n",
      "This warning is printed only once.\n",
      "/Users/stephenthomas/miniconda3/envs/epoxy_sim/lib/python2.7/json/encoder.py:207: DeprecationWarning: Interpreting naive datetime as local 2017-03-30 17:29:25.342574. Please add timezone info to timestamps.\n",
      "  chunks = self.iterencode(o, _one_shot=True)\n"
     ]
    }
   ],
   "source": [
    "%matplotlib inline\n",
    "import matplotlib.pyplot as plt\n",
    "import epoxpy.epoxy_simulation as es\n",
    "import epoxpy.job as jb\n",
    "import epoxpy.temperature_profile_builder as tpb\n",
    "\n",
    "print('\\n# Test1: Running the simulation in a single job')\n",
    "# This simulation should run a total of 700 time steps because the default dt of the HOOMD engine is 1e-2\n",
    "mix_time = 3e4\n",
    "md_time = 4e4\n",
    "mix_kt = 2.0\n",
    "time_scale = 1e4\n",
    "temp_scale = 1\n",
    "type_A_md_temp_profile = tpb.LinearTemperatureProfileBuilder(initial_temperature=mix_kt, initial_time=mix_time)\n",
    "type_A_md_temp_profile.add_state_point(60 * time_scale, 4.5 * temp_scale)\n",
    "type_A_md_temp_profile.add_state_point(190 * time_scale, 4.5 * temp_scale)\n",
    "type_A_md_temp_profile.add_state_point(240 * time_scale, 1.0 * temp_scale)\n",
    "\n",
    "fig = type_A_md_temp_profile.get_figure()\n",
    "plt.show()\n",
    "fig.savefig(\"type_A_temp_profile.png\")\n",
    "\n",
    "myEpoxySim = es.EpoxySimulation('epoxy_test_mbuild', mix_time=mix_time, mix_kt=mix_kt,\n",
    "                                temp_prof=type_A_md_temp_profile, n_mul=1.0, bond=True, bond_period=1*time_scale)\n",
    "\n",
    "mySingleJobForEpoxy = jb.SingleJob(myEpoxySim)\n",
    "mySingleJobForEpoxy.execute()\n"
   ]
  },
  {
   "cell_type": "code",
   "execution_count": null,
   "metadata": {
    "collapsed": true
   },
   "outputs": [],
   "source": []
  }
 ],
 "metadata": {
  "kernelspec": {
   "display_name": "Python 2",
   "language": "python",
   "name": "python2"
  },
  "language_info": {
   "codemirror_mode": {
    "name": "ipython",
    "version": 2
   },
   "file_extension": ".py",
   "mimetype": "text/x-python",
   "name": "python",
   "nbconvert_exporter": "python",
   "pygments_lexer": "ipython2",
   "version": "2.7.13"
  },
  "widgets": {
   "state": {
    "0d5ee763b8624f0bb7927e702e2b996c": {
     "views": [
      {
       "cell_index": 5
      }
     ]
    },
    "0fa0a0f477a44265aed6909b9fce9ede": {
     "views": [
      {
       "cell_index": 5
      }
     ]
    },
    "182fd929a3b048f5a3cafe124494f603": {
     "views": [
      {
       "cell_index": 1
      }
     ]
    },
    "1dc4276aa71949f5aaf21e7d4f162e4f": {
     "views": [
      {
       "cell_index": 5
      }
     ]
    },
    "21aee1bcb34d4e98889fc921aff292ac": {
     "views": [
      {
       "cell_index": 5
      }
     ]
    },
    "23159c192574418d9da7a5f493cd36a5": {
     "views": [
      {
       "cell_index": 5
      }
     ]
    },
    "30db9f3a79804271b8d092a5e544f8df": {
     "views": [
      {
       "cell_index": 5
      }
     ]
    },
    "41e237dd925741d58ed97506908ac601": {
     "views": [
      {
       "cell_index": 3
      }
     ]
    },
    "42138f0e3e1c4999b9b985d5e3b9e992": {
     "views": [
      {
       "cell_index": 1
      }
     ]
    },
    "54f291f5051a4d3e92d16166674f2f58": {
     "views": [
      {
       "cell_index": 5
      }
     ]
    },
    "672634f64a0f4e0aa7d7fafe0bc70ad8": {
     "views": [
      {
       "cell_index": 5
      }
     ]
    },
    "6b09f8378f964b12b68c879547a196b9": {
     "views": [
      {
       "cell_index": 5
      }
     ]
    },
    "a6b1088cd9954aa3b02bedd28dc8bd1b": {
     "views": [
      {
       "cell_index": 5
      }
     ]
    },
    "ac777228d52a4ebc9d086401c34d17c0": {
     "views": [
      {
       "cell_index": 5
      }
     ]
    },
    "b0fc5c59413e462ebeabae063476bd0c": {
     "views": [
      {
       "cell_index": 3
      }
     ]
    },
    "c1f314c71c5c4fc4baccc386faf5d9cc": {
     "views": [
      {
       "cell_index": 5
      }
     ]
    },
    "c8a9d6ff6910487cae50a93188c4fd99": {
     "views": [
      {
       "cell_index": 5
      }
     ]
    },
    "d2a07e9735154624981a0a5536bbef81": {
     "views": [
      {
       "cell_index": 5
      }
     ]
    },
    "d2dddeecd3ac4a919e0c44ea1924c6c9": {
     "views": [
      {
       "cell_index": 5
      }
     ]
    },
    "e43d988421134094bb0dd43abb2e0c7b": {
     "views": [
      {
       "cell_index": 5
      }
     ]
    },
    "e647102c35124310939ad07a80dd103e": {
     "views": [
      {
       "cell_index": 5
      }
     ]
    },
    "e8e28b4f2a47498c9021e81437adb3e8": {
     "views": [
      {
       "cell_index": 5
      }
     ]
    },
    "eafc7318ec464ec9902cf357b0719932": {
     "views": [
      {
       "cell_index": 5
      }
     ]
    },
    "eb470895ff6a434eafc5e0ef5bfe7f45": {
     "views": [
      {
       "cell_index": 5
      }
     ]
    }
   },
   "version": "1.2.0"
  }
 },
 "nbformat": 4,
 "nbformat_minor": 2
}
