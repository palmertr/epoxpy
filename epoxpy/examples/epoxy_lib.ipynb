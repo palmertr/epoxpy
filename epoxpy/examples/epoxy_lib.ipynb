{
 "cells": [
  {
   "cell_type": "markdown",
   "metadata": {},
   "source": [
    "## Examples for epoxpy molecule library\n",
    "\n",
    "### Particle A\n",
    "\n",
    "Particles B and C are exactly the same as particle A"
   ]
  },
  {
   "cell_type": "code",
   "execution_count": 7,
   "metadata": {
    "collapsed": false
   },
   "outputs": [
    {
     "name": "stderr",
     "output_type": "stream",
     "text": [
      "/Users/stephenthomas/miniconda3/envs/epoxy_sim/lib/python2.7/json/encoder.py:207: DeprecationWarning: Interpreting naive datetime as local 2017-03-28 18:14:58.922409. Please add timezone info to timestamps.\n",
      "  chunks = self.iterencode(o, _one_shot=True)\n"
     ]
    }
   ],
   "source": [
    "import epoxpy\n",
    "from epoxpy.lib import A\n",
    "\n",
    "a = A()\n",
    "a.visualize(show_ports=True)"
   ]
  },
  {
   "cell_type": "markdown",
   "metadata": {},
   "source": [
    "### Particle C10\n",
    "\n",
    "C10 is just a chain of 10 C's. It has two parameters to set the position and orientation of the first particle. The position and orientation of the other 9 particles depend on this first one."
   ]
  },
  {
   "cell_type": "code",
   "execution_count": 8,
   "metadata": {
    "collapsed": false
   },
   "outputs": [
    {
     "name": "stderr",
     "output_type": "stream",
     "text": [
      "/Users/stephenthomas/miniconda3/envs/epoxy_sim/lib/python2.7/json/encoder.py:207: DeprecationWarning: Interpreting naive datetime as local 2017-03-28 18:14:58.959231. Please add timezone info to timestamps.\n",
      "  chunks = self.iterencode(o, _one_shot=True)\n"
     ]
    }
   ],
   "source": [
    "from epoxpy.lib import C10\n",
    "\n",
    "c10 = C10()\n",
    "c10.visualize(show_ports=True)"
   ]
  },
  {
   "cell_type": "markdown",
   "metadata": {},
   "source": [
    "## Epoxy blend (10 A's, 20 B's and 2 C10's)\n",
    "\n",
    "The blend can be given a box size. The default is [1,1,1]."
   ]
  },
  {
   "cell_type": "code",
   "execution_count": 9,
   "metadata": {
    "collapsed": false
   },
   "outputs": [
    {
     "name": "stderr",
     "output_type": "stream",
     "text": [
      "/Users/stephenthomas/miniconda3/envs/epoxy_sim/lib/python2.7/site-packages/mbuild/compound.py:889: UserWarning: Guessing that \"<A pos=(-0.6189,-0.8898,-0.5322), 0 bonds, id: 4613306832>\" is element: \"EP\"\n",
      "  warn('Guessing that \"{}\" is element: \"{}\"'.format(atom, element))\n"
     ]
    },
    {
     "name": "stdout",
     "output_type": "stream",
     "text": [
      "18\n",
      "50\n"
     ]
    },
    {
     "name": "stderr",
     "output_type": "stream",
     "text": [
      "/Users/stephenthomas/miniconda3/envs/epoxy_sim/lib/python2.7/json/encoder.py:207: DeprecationWarning: Interpreting naive datetime as local 2017-03-28 18:14:59.024110. Please add timezone info to timestamps.\n",
      "  chunks = self.iterencode(o, _one_shot=True)\n"
     ]
    }
   ],
   "source": [
    "from epoxpy.lib import Epoxy_A_10_B_20_C10_2_Blend\n",
    "import mbuild as mb\n",
    "\n",
    "blend = Epoxy_A_10_B_20_C10_2_Blend()\n",
    "mix_box = mb.packing.fill_box(blend,1,box=[3,3,3])\n",
    "print(mix_box.n_bonds)\n",
    "print(mix_box.n_particles)\n",
    "mix_box.visualize(show_ports=False)"
   ]
  },
  {
   "cell_type": "code",
   "execution_count": 10,
   "metadata": {
    "collapsed": false
   },
   "outputs": [
    {
     "name": "stderr",
     "output_type": "stream",
     "text": [
      "/Users/stephenthomas/miniconda3/envs/epoxy_sim/lib/python2.7/site-packages/mbuild/compound.py:889: UserWarning: Guessing that \"<A pos=( 0.6599, 1.8463, 0.3395), 0 bonds, id: 4616536656>\" is element: \"EP\"\n",
      "  warn('Guessing that \"{}\" is element: \"{}\"'.format(atom, element))\n",
      "/Users/stephenthomas/miniconda3/envs/epoxy_sim/lib/python2.7/json/encoder.py:207: DeprecationWarning: Interpreting naive datetime as local 2017-03-28 18:14:59.344029. Please add timezone info to timestamps.\n",
      "  chunks = self.iterencode(o, _one_shot=True)\n"
     ]
    }
   ],
   "source": [
    "from foyer import Forcefield\n",
    "mix_box.save('blend.gsd', write_ff=False)\n",
    "mix_box.save('blend.hoomdxml')"
   ]
  },
  {
   "cell_type": "code",
   "execution_count": null,
   "metadata": {
    "collapsed": true
   },
   "outputs": [],
   "source": []
  }
 ],
 "metadata": {
  "kernelspec": {
   "display_name": "Python 2",
   "language": "python",
   "name": "python2"
  },
  "language_info": {
   "codemirror_mode": {
    "name": "ipython",
    "version": 2
   },
   "file_extension": ".py",
   "mimetype": "text/x-python",
   "name": "python",
   "nbconvert_exporter": "python",
   "pygments_lexer": "ipython2",
   "version": "2.7.13"
  },
  "widgets": {
   "state": {
    "0244e8c81be8451a9029ec7f0b5159f7": {
     "views": [
      {
       "cell_index": 1
      }
     ]
    },
    "8222c731ac8d4d3198bd0bd2f52d5011": {
     "views": [
      {
       "cell_index": 3
      }
     ]
    },
    "96f4db3d6c7943c4aa3853494e352448": {
     "views": [
      {
       "cell_index": 5
      }
     ]
    },
    "a33f589ea90644deb231b79360ff624c": {
     "views": [
      {
       "cell_index": 1
      }
     ]
    },
    "a56ec54c332b4f2b930461b140559be5": {
     "views": [
      {
       "cell_index": 3
      }
     ]
    },
    "b1964e34315b438dad232d49ac6140aa": {
     "views": [
      {
       "cell_index": 3
      }
     ]
    },
    "e59c613fa316442f90750d4ae44f5826": {
     "views": [
      {
       "cell_index": 1
      }
     ]
    },
    "e840cfc562894b5d91d3b0e14f4eaad4": {
     "views": [
      {
       "cell_index": 3
      }
     ]
    },
    "e87e4c6a283245f0ae72d6ccfd477e26": {
     "views": [
      {
       "cell_index": 1
      }
     ]
    },
    "f7258f132fca41199be99a7218f130d7": {
     "views": [
      {
       "cell_index": 5
      }
     ]
    }
   },
   "version": "1.2.0"
  }
 },
 "nbformat": 4,
 "nbformat_minor": 2
}
