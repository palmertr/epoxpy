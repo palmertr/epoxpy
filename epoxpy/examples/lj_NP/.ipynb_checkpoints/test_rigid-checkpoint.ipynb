{
 "cells": [
  {
   "cell_type": "code",
   "execution_count": 1,
   "metadata": {},
   "outputs": [],
   "source": [
    "import hoomd"
   ]
  },
  {
   "cell_type": "code",
   "execution_count": 4,
   "metadata": {},
   "outputs": [],
   "source": [
    "import hoomd.deprecated"
   ]
  },
  {
   "cell_type": "code",
   "execution_count": 8,
   "metadata": {},
   "outputs": [
    {
     "name": "stdout",
     "output_type": "stream",
     "text": [
      "notice(2): Reading initial.hoomdxml...\n",
      "notice(2): Parser for node <acceleration> not defined, ignoring\n",
      "notice(2): --- hoomd_xml file read summary\n",
      "notice(2): 760 positions at timestep 0\n",
      "notice(2): 760 images\n",
      "notice(2): 760 velocities\n",
      "notice(2): 760 masses\n",
      "notice(2): 760 diameters\n",
      "notice(2): 5 particle types\n",
      "notice(2): 760 particle body values\n",
      "notice(2): 36 bonds\n",
      "notice(2): 760 charges\n",
      "notice(2): 760 orientations\n",
      "notice(2): 760 moments of inertia\n",
      "notice(2): 760 angular moments\n",
      "notice(2): Group \"all\" created containing 760 particles\n"
     ]
    }
   ],
   "source": [
    "hoomd.context.initialize('--mode=cpu')\n",
    "system = hoomd.deprecated.init.read_xml('initial.hoomdxml')"
   ]
  },
  {
   "cell_type": "code",
   "execution_count": 9,
   "metadata": {},
   "outputs": [],
   "source": [
    "snapshot = system.take_snapshot(all=True)"
   ]
  },
  {
   "cell_type": "code",
   "execution_count": null,
   "metadata": {},
   "outputs": [],
   "source": []
  }
 ],
 "metadata": {
  "kernelspec": {
   "display_name": "Python 3",
   "language": "python",
   "name": "python3"
  },
  "language_info": {
   "codemirror_mode": {
    "name": "ipython",
    "version": 3
   },
   "file_extension": ".py",
   "mimetype": "text/x-python",
   "name": "python",
   "nbconvert_exporter": "python",
   "pygments_lexer": "ipython3",
   "version": "3.5.4"
  }
 },
 "nbformat": 4,
 "nbformat_minor": 2
}
