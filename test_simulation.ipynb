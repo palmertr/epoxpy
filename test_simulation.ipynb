{
 "cells": [
  {
   "cell_type": "code",
   "execution_count": 1,
   "metadata": {
    "collapsed": false
   },
   "outputs": [
    {
     "name": "stdout",
     "output_type": "stream",
     "text": [
      "HOOMD-blue v2.1.3 DOUBLE HPMC_MIXED SSE SSE2 SSE3 SSE4_1 SSE4_2 AVX \n",
      "Compiled: 02/07/17\n",
      "Copyright 2009-2016 The Regents of the University of Michigan.\n",
      "-----\n",
      "You are using HOOMD-blue. Please cite the following:\n",
      "* J A Anderson, C D Lorenz, and A Travesset. \"General purpose molecular dynamics\n",
      "  simulations fully implemented on graphics processing units\", Journal of\n",
      "  Computational Physics 227 (2008) 5342--5359\n",
      "* J Glaser, T D Nguyen, J A Anderson, P Liu, F Spiga, J A Millan, D C Morse, and\n",
      "  S C Glotzer. \"Strong scaling of general-purpose molecular dynamics simulations\n",
      "  on GPUs\", Computer Physics Communications 192 (2015) 97--107\n",
      "-----\n"
     ]
    },
    {
     "name": "stderr",
     "output_type": "stream",
     "text": [
      "/Users/stephenthomas/miniconda3/envs/epoxy_sim/lib/python2.7/site-packages/matplotlib/__init__.py:1078: UserWarning: Illegal line #45\n",
      "\t\" linewidths (defaults are all 0.5)\n",
      "\"\n",
      "\tin file \"/Users/stephenthomas/.matplotlib/matplotlibrc\"\n",
      "  warnings.warn('Illegal %s' % error_details)\n"
     ]
    },
    {
     "name": "stdout",
     "output_type": "stream",
     "text": [
      "\n",
      "# Test1: Running the simulation in a single job\n"
     ]
    },
    {
     "name": "stderr",
     "output_type": "stream",
     "text": [
      "/Users/stephenthomas/miniconda3/envs/epoxy_sim/lib/python2.7/site-packages/matplotlib/figure.py:1742: UserWarning: This figure includes Axes that are not compatible with tight_layout, so its results might be incorrect.\n",
      "  warnings.warn(\"This figure includes Axes that are not \"\n"
     ]
    },
    {
     "data": {
      "image/png": "[encoded data removed]",
      "text/plain": [
       "<matplotlib.figure.Figure at 0x1185d9b10>"
      ]
     },
     "metadata": {},
     "output_type": "display_data"
    }
   ],
   "source": [
    "%load_ext autoreload\n",
    "%autoreload 2\n",
    "%aimport epoxy_simulation\n",
    "%aimport job\n",
    "%aimport temperature_profile_builder\n",
    "\n",
    "import matplotlib.pyplot as plt\n",
    "from epoxy_simulation import EpoxySimulation\n",
    "from job import SingleJob\n",
    "from temperature_profile_builder import LinearTemperatureProfileBuilder\n",
    "\n",
    "print('\\n# Test1: Running the simulation in a single job')\n",
    "# This simulation should run a total of 700 time steps because the default dt of the HOOMD engine is 1e-2\n",
    "mix_time = 3e4\n",
    "md_time = 4e4\n",
    "mix_kt = 2.0\n",
    "time_scale = 1\n",
    "temp_scale = 1\n",
    "type_A_md_temp_profile = LinearTemperatureProfileBuilder(initial_temperature=mix_kt, initial_time=mix_time)\n",
    "type_A_md_temp_profile.add_state_point(60 * time_scale, 4.5 * temp_scale)\n",
    "type_A_md_temp_profile.add_state_point(190 * time_scale, 4.5 * temp_scale)\n",
    "type_A_md_temp_profile.add_state_point(240 * time_scale, 1.0 * temp_scale)\n",
    "\n",
    "fig = type_A_md_temp_profile.get_figure()\n",
    "plt.show()\n",
    "#fig.savefig(\"type_A_temp_profile.png\")"
   ]
  },
  {
   "cell_type": "code",
   "execution_count": 2,
   "metadata": {
    "collapsed": false
   },
   "outputs": [
    {
     "name": "stdout",
     "output_type": "stream",
     "text": [
      "HOOMD-blue is running on the CPU\n",
      "HOOMDEngine initialized.\n",
      "<hoomd_engine.HOOMDEngine object at 0x1179bb390> created in SimulationEngineFactory\n",
      "New single job created to run epoxy_test1\n",
      "Executing epoxy_test1\n",
      "Initializing epoxy_test1\n",
      "notice(2): Group \"all\" created containing 50 particles\n",
      "notice(2): Group \"a-particles\" created containing 10 particles\n",
      "notice(2): Group \"b-particles\" created containing 20 particles\n",
      "notice(2): Group \"c-particles\" created containing 20 particles\n",
      "-----\n",
      "You are using DPD. Please cite the following:\n",
      "* C L Phillips, J A Anderson, and S C Glotzer. \"Pseudo-random number generation\n",
      "  for Brownian Dynamics and Dissipative Particle Dynamics simulations on GPU\n",
      "  devices\", Journal of Computational Physics 230 (2011) 7191--7201\n",
      "-----\n",
      "Configuring outputs. output_dir: /Users/stephenthomas/projects/epoxy_sim/epoxy_test1/\n",
      "log_write: 100 dcd_write: 100\n",
      "notice(2): -- Neighborlist exclusion statistics -- :\n",
      "notice(2): Particles with 0 exclusions             : 30\n",
      "notice(2): Particles with 1 exclusions             : 4\n",
      "notice(2): Particles with 2 exclusions             : 16\n",
      "notice(2): Neighbors included by diameter          : no\n",
      "notice(2): Neighbors excluded when in the same body: no\n",
      "** starting run **\n",
      "Time 00:00:01 | Step 30000 / 30000 | TPS 29695.1 | ETA 00:00:00\n",
      "Average TPS: 29621.2\n",
      "---------\n",
      "-- Neighborlist stats:\n",
      "6265 normal updates / 301 forced updates / 0 dangerous updates\n",
      "n_neigh_min: 0 / n_neigh_max: 15 / n_neigh_avg: 5.74\n",
      "shortest rebuild period: 2\n",
      "-- Cell list stats:\n",
      "Dimension: 2, 2, 2\n",
      "n_min    : 3 / n_max: 11 / n_avg: 6.25\n",
      "** run complete **\n",
      "Running epoxy_test1\n",
      "temperature profile <hoomd.variant.linear_interp instance at 0x11bc2b320>\n",
      "** starting run **\n",
      "Time 00:00:02 | Step 70000 / 70000 | TPS 39228.5 | ETA 00:00:00\n",
      "Average TPS: 39133\n",
      "---------\n",
      "-- Neighborlist stats:\n",
      "7636 normal updates / 401 forced updates / 0 dangerous updates\n",
      "n_neigh_min: 0 / n_neigh_max: 16 / n_neigh_avg: 5.24\n",
      "shortest rebuild period: 3\n",
      "-- Cell list stats:\n",
      "Dimension: 2, 2, 2\n",
      "n_min    : 3 / n_max: 9 / n_avg: 6.25\n",
      "** run complete **\n",
      "sim fin\n"
     ]
    }
   ],
   "source": [
    "myEpoxySim = EpoxySimulation('epoxy_test1', mix_time=mix_time, mix_kt=mix_kt, md_time=md_time,\n",
    "                             temp_prof=type_A_md_temp_profile, n_mul=1.0)\n",
    "\n",
    "mySingleJobForEpoxy = SingleJob(myEpoxySim)\n",
    "mySingleJobForEpoxy.execute()"
   ]
  },
  {
   "cell_type": "code",
   "execution_count": null,
   "metadata": {
    "collapsed": true
   },
   "outputs": [],
   "source": []
  }
 ],
 "metadata": {
  "kernelspec": {
   "display_name": "Python 2",
   "language": "python",
   "name": "python2"
  },
  "language_info": {
   "codemirror_mode": {
    "name": "ipython",
    "version": 2
   },
   "file_extension": ".py",
   "mimetype": "text/x-python",
   "name": "python",
   "nbconvert_exporter": "python",
   "pygments_lexer": "ipython2",
   "version": "2.7.13"
  }
 },
 "nbformat": 4,
 "nbformat_minor": 0
}
